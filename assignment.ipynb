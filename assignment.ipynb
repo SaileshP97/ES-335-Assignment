{
 "cells": [
  {
   "cell_type": "markdown",
   "metadata": {},
   "source": [
    "## ES 335 Assignment"
   ]
  },
  {
   "cell_type": "markdown",
   "metadata": {},
   "source": [
    "### 1. How many multiplications and additions do you need to perform a matrix multiplication between a (n, k) and (k, m) matrix? Explain."
   ]
  },
  {
   "cell_type": "markdown",
   "metadata": {},
   "source": [
    "Ans. For a direct matrix multiplication, n*k*m multiplication and n*(k-1)*m addition is required.\n",
    "    Explaination: In matrix muliplication the column of first matrix is multiplied with the row of second matrix and then their value is added. So in that case each k values are multipled with each other so in each step their will be k multiplication. Then all k values are add so their will be k-1 additions. And this process repeats for all combination of n rows of 1st matrix and m columns of second matrix.\n",
    "\n",
    "    But if we use Strassen’s Algorithm then the number of multiplication and addition will be less."
   ]
  },
  {
   "cell_type": "markdown",
   "metadata": {},
   "source": [
    "### 2. Write Python code to multiply the above two matrices. Solve using list of lists and then use numpy. Compare the timing of both solutions. Which one is faster? Why?"
   ]
  },
  {
   "cell_type": "code",
   "execution_count": null,
   "metadata": {},
   "outputs": [],
   "source": [
    "import numpy as np\n",
    "\n",
    "def matrix_mult(mtx1, mtx2):\n",
    "\n",
    "    assert len(mtx1[0]) == len(mtx2)\n",
    "\n",
    "    final_mtx = []\n",
    "\n",
    "    for n in range(len(mtx1)):\n",
    "        mtx = []\n",
    "        for m in range(len(mtx2[0])):\n",
    "            val=0\n",
    "            for k in range(len(mtx2)):\n",
    "                val+=mtx1[n][k] * mtx2[k][m]\n",
    "            mtx.append(val)\n",
    "        final_mtx.append(mtx)\n",
    "\n",
    "    return final_mtx"
   ]
  },
  {
   "cell_type": "code",
   "execution_count": null,
   "metadata": {},
   "outputs": [],
   "source": [
    "mtx1 = [[1,2,3,4]]*1000000\n",
    "mtx2 = [[1,2,3,4,5,6,7,8,9,0],\n",
    "        [1,2,3,4,5,6,7,8,9,0],\n",
    "        [1,2,3,4,5,6,7,8,9,0],\n",
    "        [1,2,3,4,5,6,7,8,9,0]]\n",
    "matrix_mult(mtx1, mtx2)"
   ]
  },
  {
   "cell_type": "code",
   "execution_count": null,
   "metadata": {},
   "outputs": [],
   "source": [
    "np.matmul(mtx1, mtx2)"
   ]
  },
  {
   "cell_type": "markdown",
   "metadata": {},
   "source": [
    "My function took 4 secs calculate while numpy took 0 sec. I Googled the reason and found out that its uses a BLAS library which is optimised for Linear algebra."
   ]
  },
  {
   "cell_type": "markdown",
   "metadata": {},
   "source": [
    "### 3. Finding the highest element in a list requires one pass of the array. Finding the second highest element requires 2 passes of the the array. Using this method, what is the time complexity of finding the median of the array? Can you suggest a better method? Can you implement both these methods in Python and compare against numpy.median routine in terms of time?"
   ]
  },
  {
   "cell_type": "markdown",
   "metadata": {},
   "source": [
    "Ans. The time complexity to find median of an array by linearly search from highest to median value is O(n^2) thats because the code has to do n + (n-1) + (n-2) + (n-3) + .... + n/2 searches. And the sum of this sum is O(n^2).\n",
    "\n",
    "A better option can be sorting the array using heap sort which has time complexity O(nlog(n)). And then returning the middle element."
   ]
  },
  {
   "cell_type": "code",
   "execution_count": null,
   "metadata": {},
   "outputs": [],
   "source": [
    "import heapq\n",
    "\n",
    "def linear_method(array):\n",
    "\n",
    "    n = len(array)\n",
    "\n",
    "    for i in range(int((n)/2)):\n",
    "        max = - np.inf\n",
    "        pos = 0\n",
    "        for j in range(n-i):\n",
    "            if array[j] > max:\n",
    "                max = array[j]\n",
    "                pos = j\n",
    "\n",
    "        array[pos], array[j] = array[j], array[pos]\n",
    "        \n",
    "    return max\n",
    "\n",
    "def heap_sort_method(array):\n",
    "\n",
    "    n = len(array)\n",
    "    array = list(array)\n",
    "\n",
    "    heapq.heapify(array)\n",
    "\n",
    "    sorted_arr = []\n",
    "    while array:\n",
    "        \n",
    "        smallest = heapq.heappop(array)\n",
    "        sorted_arr.append(smallest)\n",
    "\n",
    "    return sorted_arr[n//2]\n",
    "\n",
    "    \n",
    "\n",
    "list1 = np.random.randint(0, 10000, 100000)            "
   ]
  },
  {
   "cell_type": "code",
   "execution_count": null,
   "metadata": {},
   "outputs": [],
   "source": [
    "linear_method(list1)"
   ]
  },
  {
   "cell_type": "code",
   "execution_count": null,
   "metadata": {},
   "outputs": [],
   "source": [
    "heap_sort_method(list1)"
   ]
  },
  {
   "cell_type": "code",
   "execution_count": null,
   "metadata": {},
   "outputs": [],
   "source": [
    "np.median(list1)"
   ]
  },
  {
   "cell_type": "markdown",
   "metadata": {},
   "source": [
    "### 4. What is the gradient of the following function with respect to x and y?\n",
    "\n",
    "    x^2*y + y^3*sin(x)"
   ]
  },
  {
   "cell_type": "markdown",
   "metadata": {},
   "source": [
    "(2xy + y^3 * cosx)i , (x^2 + 3y^2*sinx)j"
   ]
  },
  {
   "cell_type": "code",
   "execution_count": null,
   "metadata": {},
   "outputs": [],
   "source": [
    "def mah_func(x, y):\n",
    "\n",
    "    return (2*x*y + (y**3) * jax.numpy.cos(x), x**2 + 3*(y**2)*jax.numpy.sin(x))"
   ]
  },
  {
   "cell_type": "markdown",
   "metadata": {},
   "source": [
    "### 5. Use JAX to confirm the gradient evaluated by your method matches the analytical solution corresponding to a few random values of x and y"
   ]
  },
  {
   "cell_type": "code",
   "execution_count": null,
   "metadata": {},
   "outputs": [],
   "source": [
    "import jax\n",
    "\n",
    "def jax_grad(x, y):\n",
    "\n",
    "    f = lambda x,y: (x**2) * y + (y**3) * jax.numpy.sin(x)\n",
    "\n",
    "    dfdxy = jax.grad(f, argnums=(0, 1))\n",
    "    return (dfdxy(x, y))"
   ]
  },
  {
   "cell_type": "code",
   "execution_count": null,
   "metadata": {},
   "outputs": [],
   "source": [
    "for _ in range(100):\n",
    "\n",
    "    x = np.random.rand(2)\n",
    "    x = [1.,2.]\n",
    "    m_output = mah_func(x[0], x[1])\n",
    "    j_output = jax_grad(x[0], x[1])\n",
    "    \n",
    "    assert m_output == j_output"
   ]
  },
  {
   "cell_type": "markdown",
   "metadata": {},
   "source": [
    "### 6. Use sympy to confirm that you obtain the same gradient analytically."
   ]
  },
  {
   "cell_type": "code",
   "execution_count": 301,
   "metadata": {},
   "outputs": [],
   "source": [
    "import sympy as sp"
   ]
  },
  {
   "cell_type": "code",
   "execution_count": 305,
   "metadata": {},
   "outputs": [],
   "source": [
    "x, y = sp.symbols('x y')\n",
    "\n",
    "f = (x**2) * y + (y**3) * sp.sin(x)"
   ]
  },
  {
   "cell_type": "code",
   "execution_count": 306,
   "metadata": {},
   "outputs": [
    {
     "data": {
      "text/latex": [
       "$\\displaystyle 2 x y + y^{3} \\cos{\\left(x \\right)}$"
      ],
      "text/plain": [
       "2*x*y + y**3*cos(x)"
      ]
     },
     "execution_count": 306,
     "metadata": {},
     "output_type": "execute_result"
    }
   ],
   "source": [
    "f.diff(x)"
   ]
  },
  {
   "cell_type": "code",
   "execution_count": 307,
   "metadata": {},
   "outputs": [
    {
     "data": {
      "text/latex": [
       "$\\displaystyle x^{2} + 3 y^{2} \\sin{\\left(x \\right)}$"
      ],
      "text/plain": [
       "x**2 + 3*y**2*sin(x)"
      ]
     },
     "execution_count": 307,
     "metadata": {},
     "output_type": "execute_result"
    }
   ],
   "source": [
    "f.diff(y)"
   ]
  },
  {
   "cell_type": "markdown",
   "metadata": {},
   "source": [
    "### 7. Create a Python nested dictionary to represent hierarchical information. We want to store record of students and their marks. Something like:\n",
    "\n",
    "2022\n",
    "    Branch 1\n",
    "        Roll Number: 1, Name: N, Marks:\n",
    "            Maths: 100, English: 70 …\n",
    "    Branch 2\n",
    "2023\n",
    "    Branch 1\n",
    "    Branch 2\n",
    "2024\n",
    "    Branch 1\n",
    "    Branch 2\n",
    "2025\n",
    "    Branch 1\n",
    "    Branch 2"
   ]
  },
  {
   "cell_type": "code",
   "execution_count": 10,
   "metadata": {},
   "outputs": [],
   "source": [
    "student_db = {\n",
    "    2022: {\n",
    "        'Branch 1':{\n",
    "            'roll number: 1': {\n",
    "            'Name:': 'A',\n",
    "            'Marks' : {\n",
    "                \"Maths\": 100,\n",
    "                \"English\": 70,\n",
    "                \"ML\": 90\n",
    "                }\n",
    "            },\n",
    "            'roll number: 2': {\n",
    "            'Name:': 'A',\n",
    "            'Marks' : {\n",
    "                \"Maths\": 100,\n",
    "                \"English\": 70,\n",
    "                \"ML\": 90\n",
    "                }\n",
    "            }\n",
    "        },\n",
    "        'Branch 2':{\n",
    "            'roll number: 1': {\n",
    "            'Name:': 'A',\n",
    "            'Marks' : {\n",
    "                \"Maths\": 100,\n",
    "                \"English\": 70,\n",
    "                \"ML\": 90\n",
    "                }\n",
    "            },\n",
    "            'roll number: 2': {\n",
    "            'Name:': 'A',\n",
    "            'Marks' : {\n",
    "                \"Maths\": 100,\n",
    "                \"English\": 70,\n",
    "                \"ML\": 90\n",
    "                }\n",
    "            }\n",
    "        }\n",
    "    },\n",
    "    2023: {\n",
    "        'Branch 1':{\n",
    "            'roll number: 1': {\n",
    "            'Name:': 'A',\n",
    "            'Marks' : {\n",
    "                \"Maths\": 100,\n",
    "                \"English\": 70,\n",
    "                \"ML\": 90\n",
    "                }\n",
    "            },\n",
    "            'roll number: 2': {\n",
    "            'Name:': 'A',\n",
    "            'Marks' : {\n",
    "                \"Maths\": 100,\n",
    "                \"English\": 70,\n",
    "                \"ML\": 90\n",
    "                }\n",
    "            }\n",
    "        },\n",
    "        'Branch 2':{\n",
    "            'roll number: 1': {\n",
    "            'Name:': 'A',\n",
    "            'Marks' : {\n",
    "                \"Maths\": 100,\n",
    "                \"English\": 70,\n",
    "                \"ML\": 90\n",
    "                }\n",
    "            },\n",
    "            'roll number: 2': {\n",
    "            'Name:': 'A',\n",
    "            'Marks' : {\n",
    "                \"Maths\": 100,\n",
    "                \"English\": 70,\n",
    "                \"ML\": 90\n",
    "                }\n",
    "            }\n",
    "        }\n",
    "    },\n",
    "    2024: {\n",
    "        'Branch 1':{\n",
    "            'roll number: 1': {\n",
    "            'Name:': 'A',\n",
    "            'Marks' : {\n",
    "                \"Maths\": 100,\n",
    "                \"English\": 70,\n",
    "                \"ML\": 90\n",
    "                }\n",
    "            },\n",
    "            'roll number: 2': {\n",
    "            'Name:': 'A',\n",
    "            'Marks' : {\n",
    "                \"Maths\": 100,\n",
    "                \"English\": 70,\n",
    "                \"ML\": 90\n",
    "                }\n",
    "            }\n",
    "        },\n",
    "        'Branch 2':{\n",
    "            'roll number: 1': {\n",
    "            'Name:': 'A',\n",
    "            'Marks' : {\n",
    "                \"Maths\": 100,\n",
    "                \"English\": 70,\n",
    "                \"ML\": 90\n",
    "                }\n",
    "            },\n",
    "            'roll number: 2': {\n",
    "            'Name:': 'A',\n",
    "            'Marks' : {\n",
    "                \"Maths\": 100,\n",
    "                \"English\": 70,\n",
    "                \"ML\": 90\n",
    "                }\n",
    "            }\n",
    "        }\n",
    "    },\n",
    "    2025: {\n",
    "        'Branch 1':{\n",
    "            'roll number: 1': {\n",
    "            'Name:': 'A',\n",
    "            'Marks' : {\n",
    "                \"Maths\": 100,\n",
    "                \"English\": 70,\n",
    "                \"ML\": 90\n",
    "                }\n",
    "            },\n",
    "            'roll number: 2': {\n",
    "            'Name:': 'A',\n",
    "            'Marks' : {\n",
    "                \"Maths\": 100,\n",
    "                \"English\": 70,\n",
    "                \"ML\": 90\n",
    "                }\n",
    "            }\n",
    "        },\n",
    "        'Branch 2':{\n",
    "            'roll number: 1': {\n",
    "            'Name:': 'A',\n",
    "            'Marks' : {\n",
    "                \"Maths\": 100,\n",
    "                \"English\": 70,\n",
    "                \"ML\": 90\n",
    "                }\n",
    "            },\n",
    "            'roll number: 2': {\n",
    "            'Name:': 'A',\n",
    "            'Marks' : {\n",
    "                \"Maths\": 100,\n",
    "                \"English\": 70,\n",
    "                \"ML\": 90\n",
    "                }\n",
    "            }\n",
    "        }\n",
    "    }\n",
    "}"
   ]
  },
  {
   "cell_type": "markdown",
   "metadata": {},
   "source": [
    "### 8. Store the same information using Python classes. We have an overall database which is a list of year objects. Each year contains a list of branches. Each branch contains a list of students. Each student has some properties like name, roll number and has marks in some subjects."
   ]
  },
  {
   "cell_type": "code",
   "execution_count": 14,
   "metadata": {},
   "outputs": [],
   "source": [
    "class Student_DB:\n",
    "\n",
    "    def __init__(self) -> None:\n",
    "        self.DB = None\n",
    "    \n",
    "    def batch(self):\n",
    "\n",
    "        self.BD.batch = input(\"Create a batch\")\n",
    "\n",
    "    def branch(self):\n",
    "\n",
    "        self.BD.batch.branch = input(\"Create a branch\")\n",
    "\n",
    "    def Student_details(self):\n",
    "\n",
    "        self.BD.batch.branch.roll_number = input(\"Add roll number\")\n",
    "        self.BD.batch.branch.Name = input(\"Add Name\")\n",
    "\n",
    "\n",
    "        "
   ]
  },
  {
   "cell_type": "code",
   "execution_count": 168,
   "metadata": {},
   "outputs": [],
   "source": [
    "class Student_DB:\n",
    "\n",
    "    def __init__(self):\n",
    "        self.DB = {}\n",
    "\n",
    "    class Batch:\n",
    "        def __init__(self, batch_name):\n",
    "            self.batch = batch_name\n",
    "            self.branches = {}\n",
    "\n",
    "        class Branch:\n",
    "            def __init__(self, branch_name):\n",
    "                self.branch = branch_name\n",
    "                self.students = {}\n",
    "            \n",
    "            class Student_details:\n",
    "                def __init__(self, roll_number, name):\n",
    "                    self.roll_number = roll_number\n",
    "                    self.Name = name\n",
    "                    self.marks = None\n",
    "\n",
    "                class Marks():\n",
    "                    def __init__(self, maths, english, ml):\n",
    "                        self.Maths = maths\n",
    "                        self.English = english\n",
    "                        self.ML = ml\n",
    "\n",
    "    def create_batch(self, batch_name):\n",
    "\n",
    "        self.DB[batch_name] = self.Batch(batch_name)\n",
    "    \n",
    "    def create_branch(self, batch, branch_name):\n",
    "\n",
    "        self.DB[batch].branches[branch_name] = self.DB[batch].Branch(branch_name)\n",
    "\n",
    "    def create_student(self, batch, branch_name, roll_number, name):\n",
    "\n",
    "        self.DB[batch].branches[branch_name].students[roll_number] = self.DB[batch].branches[branch_name].Student_details(roll_number, name)\n",
    "\n",
    "    def add_marks(self, batch, branch, roll_number, maths, english, ml):\n",
    "\n",
    "        self.DB[batch].branches[branch].students[roll_number].marks = self.DB[batch].branches[branch].students[roll_number].Marks(maths, english, ml) \n",
    "\n",
    "\n",
    "        "
   ]
  },
  {
   "cell_type": "code",
   "execution_count": 178,
   "metadata": {},
   "outputs": [],
   "source": [
    "ST = Student_DB()\n",
    "\n",
    "ST.create_batch('2022')\n",
    "ST.create_branch('2022', 'branch1')\n",
    "ST.create_student('2022', 'branch1', '1', 'A')\n",
    "ST.add_marks('2022', 'branch1', '1', 23, 44, 56)\n",
    "ST.create_student('2022', 'branch1', '2', 'B')\n",
    "ST.add_marks('2022', 'branch1', '1', 43, 64, 86)\n",
    "ST.create_student('2022', 'branch1', '3', 'C')\n",
    "ST.add_marks('2022', 'branch1', '1', 83, 14, 76)\n",
    "\n",
    "ST.create_branch('2022', 'branch2')\n",
    "ST.create_student('2022', 'branch2', '1', 'D')\n",
    "ST.add_marks('2022', 'branch2', '1', 38, 49, 26)\n",
    "ST.create_student('2022', 'branch2', '2', 'E')\n",
    "ST.add_marks('2022', 'branch2', '2', 93, 34, 76)\n",
    "ST.create_student('2022', 'branch2', '3', 'F')\n",
    "ST.add_marks('2022', 'branch2', '3', 93, 84, 46)\n",
    "\n",
    "ST.create_batch('2023')\n",
    "ST.create_branch('2023', 'branch1')\n",
    "ST.create_student('2023', 'branch1', '1', 'G')\n",
    "ST.add_marks('2023', 'branch1', '1', 23, 44, 56)\n",
    "ST.create_student('2023', 'branch1', '2', 'H')\n",
    "ST.add_marks('2023', 'branch1', '2', 43, 64, 86)\n",
    "ST.create_student('2023', 'branch1', '3', 'I')\n",
    "ST.add_marks('2023', 'branch1', '3', 83, 14, 76)\n",
    "\n",
    "ST.create_branch('2023', 'branch2')\n",
    "ST.create_student('2023', 'branch2', '1', 'J')\n",
    "ST.add_marks('2023', 'branch2', '1', 38, 49, 26)\n",
    "ST.create_student('2023', 'branch2', '2', 'K')\n",
    "ST.add_marks('2023', 'branch2', '2', 93, 34, 76)\n",
    "ST.create_student('2023', 'branch2', '3', 'L')\n",
    "ST.add_marks('2023', 'branch2', '3', 93, 84, 46)"
   ]
  },
  {
   "cell_type": "markdown",
   "metadata": {},
   "source": [
    "### 9. Using matplotlib plot the following functions on the domain: x = 0.5 to 100.0 in steps of 0.5."
   ]
  },
  {
   "cell_type": "code",
   "execution_count": 186,
   "metadata": {},
   "outputs": [],
   "source": [
    "import matplotlib.pyplot as plt\n",
    "import numpy as np"
   ]
  },
  {
   "cell_type": "code",
   "execution_count": 204,
   "metadata": {},
   "outputs": [
    {
     "data": {
      "text/plain": [
       "[<matplotlib.lines.Line2D at 0x10c584dc0>]"
      ]
     },
     "execution_count": 204,
     "metadata": {},
     "output_type": "execute_result"
    },
    {
     "data": {
      "image/png": "[encoded data removed]",
      "text/plain": [
       "<Figure size 640x480 with 1 Axes>"
      ]
     },
     "metadata": {},
     "output_type": "display_data"
    }
   ],
   "source": [
    "# y = x\n",
    "def y(x):\n",
    "    return x\n",
    "\n",
    "t1 = np.arange(0.5, 100.5, 0.5)\n",
    "\n",
    "plt.figure()\n",
    "plt.plot(t1, y(t1), linewidth=2.0)"
   ]
  },
  {
   "cell_type": "code",
   "execution_count": 205,
   "metadata": {},
   "outputs": [
    {
     "data": {
      "text/plain": [
       "[<matplotlib.lines.Line2D at 0x10c602220>]"
      ]
     },
     "execution_count": 205,
     "metadata": {},
     "output_type": "execute_result"
    },
    {
     "data": {
      "image/png": "[encoded data removed]",
      "text/plain": [
       "<Figure size 640x480 with 1 Axes>"
      ]
     },
     "metadata": {},
     "output_type": "display_data"
    }
   ],
   "source": [
    "# y = x^2\n",
    "def y(x):\n",
    "    return x**2\n",
    "\n",
    "t1 = np.arange(0.5, 100.5, 0.5)\n",
    "\n",
    "plt.figure()\n",
    "plt.plot(t1, y(t1), linewidth=2.0)"
   ]
  },
  {
   "cell_type": "code",
   "execution_count": 206,
   "metadata": {},
   "outputs": [
    {
     "data": {
      "text/plain": [
       "[<matplotlib.lines.Line2D at 0x10c6783d0>]"
      ]
     },
     "execution_count": 206,
     "metadata": {},
     "output_type": "execute_result"
    },
    {
     "data": {
      "image/png": "[encoded data removed]",
      "text/plain": [
       "<Figure size 640x480 with 1 Axes>"
      ]
     },
     "metadata": {},
     "output_type": "display_data"
    }
   ],
   "source": [
    "def y(x):\n",
    "    return (x**3)/100\n",
    "\n",
    "t1 = np.arange(0.5, 100.5, 0.5)\n",
    "\n",
    "plt.figure()\n",
    "plt.plot(t1, y(t1), linewidth=2.0)"
   ]
  },
  {
   "cell_type": "code",
   "execution_count": 200,
   "metadata": {},
   "outputs": [
    {
     "data": {
      "text/plain": [
       "[<matplotlib.lines.Line2D at 0x10c39f850>]"
      ]
     },
     "execution_count": 200,
     "metadata": {},
     "output_type": "execute_result"
    },
    {
     "data": {
      "image/png": "[encoded data removed]",
      "text/plain": [
       "<Figure size 640x480 with 1 Axes>"
      ]
     },
     "metadata": {},
     "output_type": "display_data"
    }
   ],
   "source": [
    "def y(x):\n",
    "    return np.sin(x)\n",
    "\n",
    "t1 = np.arange(0.5, 100.5, 0.5)\n",
    "\n",
    "plt.figure()\n",
    "plt.plot(t1, y(t1), linewidth=2.0)"
   ]
  },
  {
   "cell_type": "code",
   "execution_count": 201,
   "metadata": {},
   "outputs": [
    {
     "data": {
      "text/plain": [
       "[<matplotlib.lines.Line2D at 0x10c425f10>]"
      ]
     },
     "execution_count": 201,
     "metadata": {},
     "output_type": "execute_result"
    },
    {
     "data": {
      "image/png": "[encoded data removed]",
      "text/plain": [
       "<Figure size 640x480 with 1 Axes>"
      ]
     },
     "metadata": {},
     "output_type": "display_data"
    }
   ],
   "source": [
    "def y(x):\n",
    "    return np.sin(x)/x\n",
    "\n",
    "t1 = np.arange(0.5, 100.5, 0.5)\n",
    "\n",
    "plt.figure()\n",
    "plt.plot(t1, y(t1), linewidth=2.0)"
   ]
  },
  {
   "cell_type": "code",
   "execution_count": 202,
   "metadata": {},
   "outputs": [
    {
     "data": {
      "text/plain": [
       "[<matplotlib.lines.Line2D at 0x10c49da60>]"
      ]
     },
     "execution_count": 202,
     "metadata": {},
     "output_type": "execute_result"
    },
    {
     "data": {
      "image/png": "[encoded data removed]",
      "text/plain": [
       "<Figure size 640x480 with 1 Axes>"
      ]
     },
     "metadata": {},
     "output_type": "display_data"
    }
   ],
   "source": [
    "def y(x):\n",
    "    return np.log(x)\n",
    "\n",
    "t1 = np.arange(0.5, 100.5, 0.5)\n",
    "\n",
    "plt.figure()\n",
    "plt.plot(t1, y(t1), linewidth=2.0)"
   ]
  },
  {
   "cell_type": "code",
   "execution_count": 203,
   "metadata": {},
   "outputs": [
    {
     "data": {
      "text/plain": [
       "[<matplotlib.lines.Line2D at 0x10c510ac0>]"
      ]
     },
     "execution_count": 203,
     "metadata": {},
     "output_type": "execute_result"
    },
    {
     "data": {
      "image/png": "[encoded data removed]",
      "text/plain": [
       "<Figure size 640x480 with 1 Axes>"
      ]
     },
     "metadata": {},
     "output_type": "display_data"
    }
   ],
   "source": [
    "def y(x):\n",
    "    return np.exp(x)\n",
    "\n",
    "t1 = np.arange(0.5, 100.5, 0.5)\n",
    "\n",
    "plt.figure()\n",
    "plt.plot(t1, y(t1), linewidth=2.0)"
   ]
  },
  {
   "cell_type": "markdown",
   "metadata": {},
   "source": [
    "### 10. Using numpy generate a matrix of size 20X5 containing random numbers drawn uniformly from the range of 1 to 2. Using Pandas create a dataframe out of this matrix. Name the columns of the dataframe as “a”, “b”, “c”, “d”, “e”. Find the column with the highest standard deviation. Find the row with the lowest mean."
   ]
  },
  {
   "cell_type": "code",
   "execution_count": 235,
   "metadata": {},
   "outputs": [],
   "source": [
    "import pandas as pd"
   ]
  },
  {
   "cell_type": "code",
   "execution_count": 236,
   "metadata": {},
   "outputs": [
    {
     "data": {
      "text/plain": [
       "array([[1.01401001, 1.59260528, 1.41815199, 1.21809641, 1.13154769],\n",
       "       [1.94177246, 1.21067529, 1.91672225, 1.61718406, 1.97174903],\n",
       "       [1.91508505, 1.11015061, 1.98772213, 1.32683795, 1.40279077],\n",
       "       [1.28912487, 1.27310297, 1.13984255, 1.09163242, 1.27407788],\n",
       "       [1.17116181, 1.50017944, 1.82848304, 1.16623936, 1.35023097],\n",
       "       [1.7536949 , 1.13305907, 1.52384117, 1.4216026 , 1.57412515],\n",
       "       [1.06822729, 1.53458753, 1.39125662, 1.19689148, 1.59615535],\n",
       "       [1.95922084, 1.78936406, 1.73236283, 1.40150425, 1.08327548],\n",
       "       [1.02070855, 1.11528736, 1.66158057, 1.37454223, 1.67790906],\n",
       "       [1.14758977, 1.80409111, 1.25961952, 1.83242495, 1.81403161],\n",
       "       [1.54871673, 1.79860551, 1.87069073, 1.42267532, 1.06409071],\n",
       "       [1.97841486, 1.42638335, 1.65634735, 1.83806868, 1.59926436],\n",
       "       [1.7374234 , 1.25171084, 1.63705623, 1.28313037, 1.08117638],\n",
       "       [1.36207613, 1.98769651, 1.78504734, 1.54282681, 1.02917862],\n",
       "       [1.05442039, 1.37285839, 1.92400528, 1.61016737, 1.28145855],\n",
       "       [1.90283928, 1.30914169, 1.72292224, 1.15071879, 1.58455854],\n",
       "       [1.45353834, 1.85525184, 1.10975552, 1.60005688, 1.27102431],\n",
       "       [1.08735376, 1.17086514, 1.90952962, 1.70136753, 1.96357299],\n",
       "       [1.27530865, 1.72025386, 1.283517  , 1.95310974, 1.71049869],\n",
       "       [1.04612732, 1.56585195, 1.1479898 , 1.29953947, 1.18010101]])"
      ]
     },
     "execution_count": 236,
     "metadata": {},
     "output_type": "execute_result"
    }
   ],
   "source": [
    "matrix = np.random.uniform(1,2,(20,5))\n",
    "matrix"
   ]
  },
  {
   "cell_type": "code",
   "execution_count": 243,
   "metadata": {},
   "outputs": [
    {
     "data": {
      "text/html": [
       "<div>\n",
       "<style scoped>\n",
       "    .dataframe tbody tr th:only-of-type {\n",
       "        vertical-align: middle;\n",
       "    }\n",
       "\n",
       "    .dataframe tbody tr th {\n",
       "        vertical-align: top;\n",
       "    }\n",
       "\n",
       "    .dataframe thead th {\n",
       "        text-align: right;\n",
       "    }\n",
       "</style>\n",
       "<table border=\"1\" class=\"dataframe\">\n",
       "  <thead>\n",
       "    <tr style=\"text-align: right;\">\n",
       "      <th></th>\n",
       "      <th>a</th>\n",
       "      <th>b</th>\n",
       "      <th>c</th>\n",
       "      <th>d</th>\n",
       "      <th>e</th>\n",
       "    </tr>\n",
       "  </thead>\n",
       "  <tbody>\n",
       "    <tr>\n",
       "      <th>0</th>\n",
       "      <td>1.014010</td>\n",
       "      <td>1.592605</td>\n",
       "      <td>1.418152</td>\n",
       "      <td>1.218096</td>\n",
       "      <td>1.131548</td>\n",
       "    </tr>\n",
       "    <tr>\n",
       "      <th>1</th>\n",
       "      <td>1.941772</td>\n",
       "      <td>1.210675</td>\n",
       "      <td>1.916722</td>\n",
       "      <td>1.617184</td>\n",
       "      <td>1.971749</td>\n",
       "    </tr>\n",
       "    <tr>\n",
       "      <th>2</th>\n",
       "      <td>1.915085</td>\n",
       "      <td>1.110151</td>\n",
       "      <td>1.987722</td>\n",
       "      <td>1.326838</td>\n",
       "      <td>1.402791</td>\n",
       "    </tr>\n",
       "    <tr>\n",
       "      <th>3</th>\n",
       "      <td>1.289125</td>\n",
       "      <td>1.273103</td>\n",
       "      <td>1.139843</td>\n",
       "      <td>1.091632</td>\n",
       "      <td>1.274078</td>\n",
       "    </tr>\n",
       "    <tr>\n",
       "      <th>4</th>\n",
       "      <td>1.171162</td>\n",
       "      <td>1.500179</td>\n",
       "      <td>1.828483</td>\n",
       "      <td>1.166239</td>\n",
       "      <td>1.350231</td>\n",
       "    </tr>\n",
       "    <tr>\n",
       "      <th>5</th>\n",
       "      <td>1.753695</td>\n",
       "      <td>1.133059</td>\n",
       "      <td>1.523841</td>\n",
       "      <td>1.421603</td>\n",
       "      <td>1.574125</td>\n",
       "    </tr>\n",
       "    <tr>\n",
       "      <th>6</th>\n",
       "      <td>1.068227</td>\n",
       "      <td>1.534588</td>\n",
       "      <td>1.391257</td>\n",
       "      <td>1.196891</td>\n",
       "      <td>1.596155</td>\n",
       "    </tr>\n",
       "    <tr>\n",
       "      <th>7</th>\n",
       "      <td>1.959221</td>\n",
       "      <td>1.789364</td>\n",
       "      <td>1.732363</td>\n",
       "      <td>1.401504</td>\n",
       "      <td>1.083275</td>\n",
       "    </tr>\n",
       "    <tr>\n",
       "      <th>8</th>\n",
       "      <td>1.020709</td>\n",
       "      <td>1.115287</td>\n",
       "      <td>1.661581</td>\n",
       "      <td>1.374542</td>\n",
       "      <td>1.677909</td>\n",
       "    </tr>\n",
       "    <tr>\n",
       "      <th>9</th>\n",
       "      <td>1.147590</td>\n",
       "      <td>1.804091</td>\n",
       "      <td>1.259620</td>\n",
       "      <td>1.832425</td>\n",
       "      <td>1.814032</td>\n",
       "    </tr>\n",
       "    <tr>\n",
       "      <th>10</th>\n",
       "      <td>1.548717</td>\n",
       "      <td>1.798606</td>\n",
       "      <td>1.870691</td>\n",
       "      <td>1.422675</td>\n",
       "      <td>1.064091</td>\n",
       "    </tr>\n",
       "    <tr>\n",
       "      <th>11</th>\n",
       "      <td>1.978415</td>\n",
       "      <td>1.426383</td>\n",
       "      <td>1.656347</td>\n",
       "      <td>1.838069</td>\n",
       "      <td>1.599264</td>\n",
       "    </tr>\n",
       "    <tr>\n",
       "      <th>12</th>\n",
       "      <td>1.737423</td>\n",
       "      <td>1.251711</td>\n",
       "      <td>1.637056</td>\n",
       "      <td>1.283130</td>\n",
       "      <td>1.081176</td>\n",
       "    </tr>\n",
       "    <tr>\n",
       "      <th>13</th>\n",
       "      <td>1.362076</td>\n",
       "      <td>1.987697</td>\n",
       "      <td>1.785047</td>\n",
       "      <td>1.542827</td>\n",
       "      <td>1.029179</td>\n",
       "    </tr>\n",
       "    <tr>\n",
       "      <th>14</th>\n",
       "      <td>1.054420</td>\n",
       "      <td>1.372858</td>\n",
       "      <td>1.924005</td>\n",
       "      <td>1.610167</td>\n",
       "      <td>1.281459</td>\n",
       "    </tr>\n",
       "    <tr>\n",
       "      <th>15</th>\n",
       "      <td>1.902839</td>\n",
       "      <td>1.309142</td>\n",
       "      <td>1.722922</td>\n",
       "      <td>1.150719</td>\n",
       "      <td>1.584559</td>\n",
       "    </tr>\n",
       "    <tr>\n",
       "      <th>16</th>\n",
       "      <td>1.453538</td>\n",
       "      <td>1.855252</td>\n",
       "      <td>1.109756</td>\n",
       "      <td>1.600057</td>\n",
       "      <td>1.271024</td>\n",
       "    </tr>\n",
       "    <tr>\n",
       "      <th>17</th>\n",
       "      <td>1.087354</td>\n",
       "      <td>1.170865</td>\n",
       "      <td>1.909530</td>\n",
       "      <td>1.701368</td>\n",
       "      <td>1.963573</td>\n",
       "    </tr>\n",
       "    <tr>\n",
       "      <th>18</th>\n",
       "      <td>1.275309</td>\n",
       "      <td>1.720254</td>\n",
       "      <td>1.283517</td>\n",
       "      <td>1.953110</td>\n",
       "      <td>1.710499</td>\n",
       "    </tr>\n",
       "    <tr>\n",
       "      <th>19</th>\n",
       "      <td>1.046127</td>\n",
       "      <td>1.565852</td>\n",
       "      <td>1.147990</td>\n",
       "      <td>1.299539</td>\n",
       "      <td>1.180101</td>\n",
       "    </tr>\n",
       "  </tbody>\n",
       "</table>\n",
       "</div>"
      ],
      "text/plain": [
       "           a         b         c         d         e\n",
       "0   1.014010  1.592605  1.418152  1.218096  1.131548\n",
       "1   1.941772  1.210675  1.916722  1.617184  1.971749\n",
       "2   1.915085  1.110151  1.987722  1.326838  1.402791\n",
       "3   1.289125  1.273103  1.139843  1.091632  1.274078\n",
       "4   1.171162  1.500179  1.828483  1.166239  1.350231\n",
       "5   1.753695  1.133059  1.523841  1.421603  1.574125\n",
       "6   1.068227  1.534588  1.391257  1.196891  1.596155\n",
       "7   1.959221  1.789364  1.732363  1.401504  1.083275\n",
       "8   1.020709  1.115287  1.661581  1.374542  1.677909\n",
       "9   1.147590  1.804091  1.259620  1.832425  1.814032\n",
       "10  1.548717  1.798606  1.870691  1.422675  1.064091\n",
       "11  1.978415  1.426383  1.656347  1.838069  1.599264\n",
       "12  1.737423  1.251711  1.637056  1.283130  1.081176\n",
       "13  1.362076  1.987697  1.785047  1.542827  1.029179\n",
       "14  1.054420  1.372858  1.924005  1.610167  1.281459\n",
       "15  1.902839  1.309142  1.722922  1.150719  1.584559\n",
       "16  1.453538  1.855252  1.109756  1.600057  1.271024\n",
       "17  1.087354  1.170865  1.909530  1.701368  1.963573\n",
       "18  1.275309  1.720254  1.283517  1.953110  1.710499\n",
       "19  1.046127  1.565852  1.147990  1.299539  1.180101"
      ]
     },
     "execution_count": 243,
     "metadata": {},
     "output_type": "execute_result"
    }
   ],
   "source": [
    "df = pd.DataFrame(matrix, columns=['a','b','c','d','e'])\n",
    "df"
   ]
  },
  {
   "cell_type": "code",
   "execution_count": 244,
   "metadata": {},
   "outputs": [
    {
     "data": {
      "text/html": [
       "<div>\n",
       "<style scoped>\n",
       "    .dataframe tbody tr th:only-of-type {\n",
       "        vertical-align: middle;\n",
       "    }\n",
       "\n",
       "    .dataframe tbody tr th {\n",
       "        vertical-align: top;\n",
       "    }\n",
       "\n",
       "    .dataframe thead th {\n",
       "        text-align: right;\n",
       "    }\n",
       "</style>\n",
       "<table border=\"1\" class=\"dataframe\">\n",
       "  <thead>\n",
       "    <tr style=\"text-align: right;\">\n",
       "      <th></th>\n",
       "      <th>a</th>\n",
       "      <th>b</th>\n",
       "      <th>c</th>\n",
       "      <th>d</th>\n",
       "      <th>e</th>\n",
       "    </tr>\n",
       "  </thead>\n",
       "  <tbody>\n",
       "    <tr>\n",
       "      <th>count</th>\n",
       "      <td>20.000000</td>\n",
       "      <td>20.000000</td>\n",
       "      <td>20.000000</td>\n",
       "      <td>20.000000</td>\n",
       "      <td>20.000000</td>\n",
       "    </tr>\n",
       "    <tr>\n",
       "      <th>mean</th>\n",
       "      <td>1.436341</td>\n",
       "      <td>1.476086</td>\n",
       "      <td>1.595322</td>\n",
       "      <td>1.452431</td>\n",
       "      <td>1.432041</td>\n",
       "    </tr>\n",
       "    <tr>\n",
       "      <th>std</th>\n",
       "      <td>0.369008</td>\n",
       "      <td>0.278947</td>\n",
       "      <td>0.290783</td>\n",
       "      <td>0.250198</td>\n",
       "      <td>0.302043</td>\n",
       "    </tr>\n",
       "    <tr>\n",
       "      <th>min</th>\n",
       "      <td>1.014010</td>\n",
       "      <td>1.110151</td>\n",
       "      <td>1.109756</td>\n",
       "      <td>1.091632</td>\n",
       "      <td>1.029179</td>\n",
       "    </tr>\n",
       "    <tr>\n",
       "      <th>25%</th>\n",
       "      <td>1.082572</td>\n",
       "      <td>1.241452</td>\n",
       "      <td>1.364322</td>\n",
       "      <td>1.266872</td>\n",
       "      <td>1.167963</td>\n",
       "    </tr>\n",
       "    <tr>\n",
       "      <th>50%</th>\n",
       "      <td>1.325601</td>\n",
       "      <td>1.463281</td>\n",
       "      <td>1.658964</td>\n",
       "      <td>1.411553</td>\n",
       "      <td>1.376511</td>\n",
       "    </tr>\n",
       "    <tr>\n",
       "      <th>75%</th>\n",
       "      <td>1.790981</td>\n",
       "      <td>1.737531</td>\n",
       "      <td>1.839035</td>\n",
       "      <td>1.611922</td>\n",
       "      <td>1.618926</td>\n",
       "    </tr>\n",
       "    <tr>\n",
       "      <th>max</th>\n",
       "      <td>1.978415</td>\n",
       "      <td>1.987697</td>\n",
       "      <td>1.987722</td>\n",
       "      <td>1.953110</td>\n",
       "      <td>1.971749</td>\n",
       "    </tr>\n",
       "  </tbody>\n",
       "</table>\n",
       "</div>"
      ],
      "text/plain": [
       "               a          b          c          d          e\n",
       "count  20.000000  20.000000  20.000000  20.000000  20.000000\n",
       "mean    1.436341   1.476086   1.595322   1.452431   1.432041\n",
       "std     0.369008   0.278947   0.290783   0.250198   0.302043\n",
       "min     1.014010   1.110151   1.109756   1.091632   1.029179\n",
       "25%     1.082572   1.241452   1.364322   1.266872   1.167963\n",
       "50%     1.325601   1.463281   1.658964   1.411553   1.376511\n",
       "75%     1.790981   1.737531   1.839035   1.611922   1.618926\n",
       "max     1.978415   1.987697   1.987722   1.953110   1.971749"
      ]
     },
     "execution_count": 244,
     "metadata": {},
     "output_type": "execute_result"
    }
   ],
   "source": [
    "df.describe()"
   ]
  },
  {
   "cell_type": "markdown",
   "metadata": {},
   "source": [
    "Column a has highest standard deviation"
   ]
  },
  {
   "cell_type": "markdown",
   "metadata": {},
   "source": [
    "### 11. Add a new column to the dataframe called “f” which is the sum of the columns “a”, “b”, “c”, “d”, “e”. Create another column called “g”. The value in the column “g” should be “LT8” if the value in the column “f” is less than 8 and “GT8” otherwise. Find the number of rows in the dataframe where the value in the column “g” is “LT8”. Find the standard deviation of the column “f” for the rows where the value in the column “g” is “LT8” and “GT8” respectively."
   ]
  },
  {
   "cell_type": "code",
   "execution_count": 245,
   "metadata": {},
   "outputs": [],
   "source": [
    "df['f'] = df['a'] + df['b'] + df['c'] + df['d'] + df['e']"
   ]
  },
  {
   "cell_type": "code",
   "execution_count": 246,
   "metadata": {},
   "outputs": [],
   "source": [
    "df['g'] = None\n",
    "for i in range(len(df)):\n",
    "    if df['f'][i] < 8:\n",
    "        df.loc[i, 'g'] = 'LT8'\n",
    "    else:\n",
    "        df.loc[i, 'g'] = 'GT8'"
   ]
  },
  {
   "cell_type": "code",
   "execution_count": 247,
   "metadata": {},
   "outputs": [
    {
     "data": {
      "text/html": [
       "<div>\n",
       "<style scoped>\n",
       "    .dataframe tbody tr th:only-of-type {\n",
       "        vertical-align: middle;\n",
       "    }\n",
       "\n",
       "    .dataframe tbody tr th {\n",
       "        vertical-align: top;\n",
       "    }\n",
       "\n",
       "    .dataframe thead th {\n",
       "        text-align: right;\n",
       "    }\n",
       "</style>\n",
       "<table border=\"1\" class=\"dataframe\">\n",
       "  <thead>\n",
       "    <tr style=\"text-align: right;\">\n",
       "      <th></th>\n",
       "      <th>a</th>\n",
       "      <th>b</th>\n",
       "      <th>c</th>\n",
       "      <th>d</th>\n",
       "      <th>e</th>\n",
       "      <th>f</th>\n",
       "      <th>g</th>\n",
       "    </tr>\n",
       "  </thead>\n",
       "  <tbody>\n",
       "    <tr>\n",
       "      <th>0</th>\n",
       "      <td>1.014010</td>\n",
       "      <td>1.592605</td>\n",
       "      <td>1.418152</td>\n",
       "      <td>1.218096</td>\n",
       "      <td>1.131548</td>\n",
       "      <td>6.374411</td>\n",
       "      <td>LT8</td>\n",
       "    </tr>\n",
       "    <tr>\n",
       "      <th>1</th>\n",
       "      <td>1.941772</td>\n",
       "      <td>1.210675</td>\n",
       "      <td>1.916722</td>\n",
       "      <td>1.617184</td>\n",
       "      <td>1.971749</td>\n",
       "      <td>8.658103</td>\n",
       "      <td>GT8</td>\n",
       "    </tr>\n",
       "    <tr>\n",
       "      <th>2</th>\n",
       "      <td>1.915085</td>\n",
       "      <td>1.110151</td>\n",
       "      <td>1.987722</td>\n",
       "      <td>1.326838</td>\n",
       "      <td>1.402791</td>\n",
       "      <td>7.742587</td>\n",
       "      <td>LT8</td>\n",
       "    </tr>\n",
       "    <tr>\n",
       "      <th>3</th>\n",
       "      <td>1.289125</td>\n",
       "      <td>1.273103</td>\n",
       "      <td>1.139843</td>\n",
       "      <td>1.091632</td>\n",
       "      <td>1.274078</td>\n",
       "      <td>6.067781</td>\n",
       "      <td>LT8</td>\n",
       "    </tr>\n",
       "    <tr>\n",
       "      <th>4</th>\n",
       "      <td>1.171162</td>\n",
       "      <td>1.500179</td>\n",
       "      <td>1.828483</td>\n",
       "      <td>1.166239</td>\n",
       "      <td>1.350231</td>\n",
       "      <td>7.016295</td>\n",
       "      <td>LT8</td>\n",
       "    </tr>\n",
       "    <tr>\n",
       "      <th>5</th>\n",
       "      <td>1.753695</td>\n",
       "      <td>1.133059</td>\n",
       "      <td>1.523841</td>\n",
       "      <td>1.421603</td>\n",
       "      <td>1.574125</td>\n",
       "      <td>7.406323</td>\n",
       "      <td>LT8</td>\n",
       "    </tr>\n",
       "    <tr>\n",
       "      <th>6</th>\n",
       "      <td>1.068227</td>\n",
       "      <td>1.534588</td>\n",
       "      <td>1.391257</td>\n",
       "      <td>1.196891</td>\n",
       "      <td>1.596155</td>\n",
       "      <td>6.787118</td>\n",
       "      <td>LT8</td>\n",
       "    </tr>\n",
       "    <tr>\n",
       "      <th>7</th>\n",
       "      <td>1.959221</td>\n",
       "      <td>1.789364</td>\n",
       "      <td>1.732363</td>\n",
       "      <td>1.401504</td>\n",
       "      <td>1.083275</td>\n",
       "      <td>7.965727</td>\n",
       "      <td>LT8</td>\n",
       "    </tr>\n",
       "    <tr>\n",
       "      <th>8</th>\n",
       "      <td>1.020709</td>\n",
       "      <td>1.115287</td>\n",
       "      <td>1.661581</td>\n",
       "      <td>1.374542</td>\n",
       "      <td>1.677909</td>\n",
       "      <td>6.850028</td>\n",
       "      <td>LT8</td>\n",
       "    </tr>\n",
       "    <tr>\n",
       "      <th>9</th>\n",
       "      <td>1.147590</td>\n",
       "      <td>1.804091</td>\n",
       "      <td>1.259620</td>\n",
       "      <td>1.832425</td>\n",
       "      <td>1.814032</td>\n",
       "      <td>7.857757</td>\n",
       "      <td>LT8</td>\n",
       "    </tr>\n",
       "    <tr>\n",
       "      <th>10</th>\n",
       "      <td>1.548717</td>\n",
       "      <td>1.798606</td>\n",
       "      <td>1.870691</td>\n",
       "      <td>1.422675</td>\n",
       "      <td>1.064091</td>\n",
       "      <td>7.704779</td>\n",
       "      <td>LT8</td>\n",
       "    </tr>\n",
       "    <tr>\n",
       "      <th>11</th>\n",
       "      <td>1.978415</td>\n",
       "      <td>1.426383</td>\n",
       "      <td>1.656347</td>\n",
       "      <td>1.838069</td>\n",
       "      <td>1.599264</td>\n",
       "      <td>8.498479</td>\n",
       "      <td>GT8</td>\n",
       "    </tr>\n",
       "    <tr>\n",
       "      <th>12</th>\n",
       "      <td>1.737423</td>\n",
       "      <td>1.251711</td>\n",
       "      <td>1.637056</td>\n",
       "      <td>1.283130</td>\n",
       "      <td>1.081176</td>\n",
       "      <td>6.990497</td>\n",
       "      <td>LT8</td>\n",
       "    </tr>\n",
       "    <tr>\n",
       "      <th>13</th>\n",
       "      <td>1.362076</td>\n",
       "      <td>1.987697</td>\n",
       "      <td>1.785047</td>\n",
       "      <td>1.542827</td>\n",
       "      <td>1.029179</td>\n",
       "      <td>7.706825</td>\n",
       "      <td>LT8</td>\n",
       "    </tr>\n",
       "    <tr>\n",
       "      <th>14</th>\n",
       "      <td>1.054420</td>\n",
       "      <td>1.372858</td>\n",
       "      <td>1.924005</td>\n",
       "      <td>1.610167</td>\n",
       "      <td>1.281459</td>\n",
       "      <td>7.242910</td>\n",
       "      <td>LT8</td>\n",
       "    </tr>\n",
       "    <tr>\n",
       "      <th>15</th>\n",
       "      <td>1.902839</td>\n",
       "      <td>1.309142</td>\n",
       "      <td>1.722922</td>\n",
       "      <td>1.150719</td>\n",
       "      <td>1.584559</td>\n",
       "      <td>7.670181</td>\n",
       "      <td>LT8</td>\n",
       "    </tr>\n",
       "    <tr>\n",
       "      <th>16</th>\n",
       "      <td>1.453538</td>\n",
       "      <td>1.855252</td>\n",
       "      <td>1.109756</td>\n",
       "      <td>1.600057</td>\n",
       "      <td>1.271024</td>\n",
       "      <td>7.289627</td>\n",
       "      <td>LT8</td>\n",
       "    </tr>\n",
       "    <tr>\n",
       "      <th>17</th>\n",
       "      <td>1.087354</td>\n",
       "      <td>1.170865</td>\n",
       "      <td>1.909530</td>\n",
       "      <td>1.701368</td>\n",
       "      <td>1.963573</td>\n",
       "      <td>7.832689</td>\n",
       "      <td>LT8</td>\n",
       "    </tr>\n",
       "    <tr>\n",
       "      <th>18</th>\n",
       "      <td>1.275309</td>\n",
       "      <td>1.720254</td>\n",
       "      <td>1.283517</td>\n",
       "      <td>1.953110</td>\n",
       "      <td>1.710499</td>\n",
       "      <td>7.942688</td>\n",
       "      <td>LT8</td>\n",
       "    </tr>\n",
       "    <tr>\n",
       "      <th>19</th>\n",
       "      <td>1.046127</td>\n",
       "      <td>1.565852</td>\n",
       "      <td>1.147990</td>\n",
       "      <td>1.299539</td>\n",
       "      <td>1.180101</td>\n",
       "      <td>6.239610</td>\n",
       "      <td>LT8</td>\n",
       "    </tr>\n",
       "  </tbody>\n",
       "</table>\n",
       "</div>"
      ],
      "text/plain": [
       "           a         b         c         d         e         f    g\n",
       "0   1.014010  1.592605  1.418152  1.218096  1.131548  6.374411  LT8\n",
       "1   1.941772  1.210675  1.916722  1.617184  1.971749  8.658103  GT8\n",
       "2   1.915085  1.110151  1.987722  1.326838  1.402791  7.742587  LT8\n",
       "3   1.289125  1.273103  1.139843  1.091632  1.274078  6.067781  LT8\n",
       "4   1.171162  1.500179  1.828483  1.166239  1.350231  7.016295  LT8\n",
       "5   1.753695  1.133059  1.523841  1.421603  1.574125  7.406323  LT8\n",
       "6   1.068227  1.534588  1.391257  1.196891  1.596155  6.787118  LT8\n",
       "7   1.959221  1.789364  1.732363  1.401504  1.083275  7.965727  LT8\n",
       "8   1.020709  1.115287  1.661581  1.374542  1.677909  6.850028  LT8\n",
       "9   1.147590  1.804091  1.259620  1.832425  1.814032  7.857757  LT8\n",
       "10  1.548717  1.798606  1.870691  1.422675  1.064091  7.704779  LT8\n",
       "11  1.978415  1.426383  1.656347  1.838069  1.599264  8.498479  GT8\n",
       "12  1.737423  1.251711  1.637056  1.283130  1.081176  6.990497  LT8\n",
       "13  1.362076  1.987697  1.785047  1.542827  1.029179  7.706825  LT8\n",
       "14  1.054420  1.372858  1.924005  1.610167  1.281459  7.242910  LT8\n",
       "15  1.902839  1.309142  1.722922  1.150719  1.584559  7.670181  LT8\n",
       "16  1.453538  1.855252  1.109756  1.600057  1.271024  7.289627  LT8\n",
       "17  1.087354  1.170865  1.909530  1.701368  1.963573  7.832689  LT8\n",
       "18  1.275309  1.720254  1.283517  1.953110  1.710499  7.942688  LT8\n",
       "19  1.046127  1.565852  1.147990  1.299539  1.180101  6.239610  LT8"
      ]
     },
     "execution_count": 247,
     "metadata": {},
     "output_type": "execute_result"
    }
   ],
   "source": [
    "df"
   ]
  },
  {
   "cell_type": "markdown",
   "metadata": {},
   "source": [
    "### 12. Write a small piece of code to explain broadcasting in numpy."
   ]
  },
  {
   "cell_type": "markdown",
   "metadata": {},
   "source": [
    "It makes matrix multiplication or addition faster without running any kind of loops.(I used this technique earlier but didn't knew it is called broadcasting.)\n"
   ]
  },
  {
   "cell_type": "code",
   "execution_count": 252,
   "metadata": {},
   "outputs": [
    {
     "name": "stdout",
     "output_type": "stream",
     "text": [
      "[2 4 6]\n",
      "[[ 2  4  6]\n",
      " [ 8 10 12]]\n"
     ]
    }
   ],
   "source": [
    "arr1 = np.array([1,2,3])\n",
    "print(arr1*2)\n",
    "\n",
    "arr1 = np.array([[1,2,3],[4,5,6]])\n",
    "arr2 = np.array([2,2,2])\n",
    "print(arr2*arr1)"
   ]
  },
  {
   "cell_type": "markdown",
   "metadata": {},
   "source": [
    "### 13. Write a function to compute the argmin of a numpy array. The function should take a numpy array as input and return the index of the minimum element. You can use the np.argmin function to verify your solution."
   ]
  },
  {
   "cell_type": "code",
   "execution_count": 274,
   "metadata": {},
   "outputs": [],
   "source": [
    "def mah_argmin(array):\n",
    "\n",
    "    min = np.inf\n",
    "    index = -1\n",
    "    for pos, i in enumerate(array):\n",
    "        if i < min:\n",
    "            index = pos\n",
    "            min = i\n",
    "    return index\n"
   ]
  },
  {
   "cell_type": "code",
   "execution_count": 276,
   "metadata": {},
   "outputs": [],
   "source": [
    "array = np.random.randint(-100,100,100)\n",
    "assert mah_argmin(array) == np.argmin(array)"
   ]
  }
 ],
 "metadata": {
  "kernelspec": {
   "display_name": "mltest",
   "language": "python",
   "name": "python3"
  },
  "language_info": {
   "codemirror_mode": {
    "name": "ipython",
    "version": 3
   },
   "file_extension": ".py",
   "mimetype": "text/x-python",
   "name": "python",
   "nbconvert_exporter": "python",
   "pygments_lexer": "ipython3",
   "version": "3.9.6"
  }
 },
 "nbformat": 4,
 "nbformat_minor": 2
}
